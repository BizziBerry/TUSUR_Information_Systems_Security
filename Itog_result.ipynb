{
  "cells": [
    {
      "cell_type": "code",
      "source": [
        "from google.colab import drive\n",
        "drive.mount(\"/content/drive/\", force_remount=True)"
      ],
      "metadata": {
        "id": "AYMD9XPPC_Tj"
      },
      "id": "AYMD9XPPC_Tj",
      "execution_count": null,
      "outputs": []
    },
    {
      "cell_type": "code",
      "execution_count": null,
      "id": "72c35001",
      "metadata": {
        "id": "72c35001"
      },
      "outputs": [],
      "source": [
        "import pandas as pd\n",
        "import numpy as np\n",
        "import tensorflow as tf\n",
        "from tensorflow.keras.models import Sequential, load_model\n",
        "from tensorflow.keras.layers import Dense, Dropout, BatchNormalization\n",
        "from sklearn.preprocessing import StandardScaler\n",
        "from sklearn.model_selection import train_test_split\n",
        "from keras import backend as K\n",
        "\n",
        "from keras import optimizers\n",
        "from keras.callbacks import ModelCheckpoint, EarlyStopping\n",
        "\n",
        "\n",
        "import pylab\n",
        "pylab.rcParams['figure.figsize'] = (15, 10)\n",
        "import matplotlib.pyplot as plt"
      ]
    },
    {
      "cell_type": "code",
      "execution_count": null,
      "id": "7eb81c36",
      "metadata": {
        "id": "7eb81c36"
      },
      "outputs": [],
      "source": [
        "RANDOM_STATE=42"
      ]
    },
    {
      "cell_type": "code",
      "execution_count": null,
      "id": "c75c2db7",
      "metadata": {
        "id": "c75c2db7",
        "outputId": "21d17d5a-ad3e-4a65-b404-28c25259c14c"
      },
      "outputs": [
        {
          "data": {
            "text/html": [
              "<div>\n",
              "<style scoped>\n",
              "    .dataframe tbody tr th:only-of-type {\n",
              "        vertical-align: middle;\n",
              "    }\n",
              "\n",
              "    .dataframe tbody tr th {\n",
              "        vertical-align: top;\n",
              "    }\n",
              "\n",
              "    .dataframe thead th {\n",
              "        text-align: right;\n",
              "    }\n",
              "</style>\n",
              "<table border=\"1\" class=\"dataframe\">\n",
              "  <thead>\n",
              "    <tr style=\"text-align: right;\">\n",
              "      <th></th>\n",
              "      <th>0</th>\n",
              "      <th>1</th>\n",
              "      <th>2</th>\n",
              "      <th>3</th>\n",
              "      <th>4</th>\n",
              "      <th>5</th>\n",
              "      <th>6</th>\n",
              "      <th>7</th>\n",
              "      <th>8</th>\n",
              "      <th>9</th>\n",
              "      <th>...</th>\n",
              "      <th>279</th>\n",
              "      <th>280</th>\n",
              "      <th>281</th>\n",
              "      <th>282</th>\n",
              "      <th>283</th>\n",
              "      <th>284</th>\n",
              "      <th>285</th>\n",
              "      <th>286</th>\n",
              "      <th>287</th>\n",
              "      <th>288</th>\n",
              "    </tr>\n",
              "  </thead>\n",
              "  <tbody>\n",
              "    <tr>\n",
              "      <th>0</th>\n",
              "      <td>281.1261</td>\n",
              "      <td>5.2019</td>\n",
              "      <td>4.9755</td>\n",
              "      <td>4.8077</td>\n",
              "      <td>4.6789</td>\n",
              "      <td>4.6716</td>\n",
              "      <td>4.4699</td>\n",
              "      <td>4.4669</td>\n",
              "      <td>272.5268</td>\n",
              "      <td>4.6808</td>\n",
              "      <td>...</td>\n",
              "      <td>0.9458</td>\n",
              "      <td>0.0000</td>\n",
              "      <td>-0.6543</td>\n",
              "      <td>0.0427</td>\n",
              "      <td>0.4482</td>\n",
              "      <td>0.7899</td>\n",
              "      <td>1.0149</td>\n",
              "      <td>1.1537</td>\n",
              "      <td>1.4483</td>\n",
              "      <td>0.0</td>\n",
              "    </tr>\n",
              "    <tr>\n",
              "      <th>1</th>\n",
              "      <td>336.6726</td>\n",
              "      <td>5.0464</td>\n",
              "      <td>4.8182</td>\n",
              "      <td>4.7258</td>\n",
              "      <td>4.5225</td>\n",
              "      <td>4.5546</td>\n",
              "      <td>4.4657</td>\n",
              "      <td>4.5582</td>\n",
              "      <td>328.6995</td>\n",
              "      <td>4.1517</td>\n",
              "      <td>...</td>\n",
              "      <td>1.0008</td>\n",
              "      <td>0.0095</td>\n",
              "      <td>1.3937</td>\n",
              "      <td>1.3188</td>\n",
              "      <td>1.3582</td>\n",
              "      <td>1.2059</td>\n",
              "      <td>1.3286</td>\n",
              "      <td>1.4715</td>\n",
              "      <td>0.8529</td>\n",
              "      <td>0.0</td>\n",
              "    </tr>\n",
              "    <tr>\n",
              "      <th>2</th>\n",
              "      <td>290.2059</td>\n",
              "      <td>5.0463</td>\n",
              "      <td>4.7287</td>\n",
              "      <td>4.6207</td>\n",
              "      <td>4.5631</td>\n",
              "      <td>4.5707</td>\n",
              "      <td>4.4580</td>\n",
              "      <td>4.3681</td>\n",
              "      <td>255.7782</td>\n",
              "      <td>3.7374</td>\n",
              "      <td>...</td>\n",
              "      <td>1.5204</td>\n",
              "      <td>-0.0156</td>\n",
              "      <td>1.3963</td>\n",
              "      <td>1.3386</td>\n",
              "      <td>1.4358</td>\n",
              "      <td>1.4311</td>\n",
              "      <td>1.3677</td>\n",
              "      <td>1.6846</td>\n",
              "      <td>1.7238</td>\n",
              "      <td>0.0</td>\n",
              "    </tr>\n",
              "    <tr>\n",
              "      <th>3</th>\n",
              "      <td>340.9563</td>\n",
              "      <td>5.1230</td>\n",
              "      <td>4.8917</td>\n",
              "      <td>4.5914</td>\n",
              "      <td>4.6239</td>\n",
              "      <td>4.5577</td>\n",
              "      <td>4.4663</td>\n",
              "      <td>4.4310</td>\n",
              "      <td>319.4096</td>\n",
              "      <td>4.6115</td>\n",
              "      <td>...</td>\n",
              "      <td>1.7294</td>\n",
              "      <td>0.0000</td>\n",
              "      <td>-0.0617</td>\n",
              "      <td>1.1793</td>\n",
              "      <td>1.1271</td>\n",
              "      <td>1.3000</td>\n",
              "      <td>1.3077</td>\n",
              "      <td>1.5584</td>\n",
              "      <td>1.6281</td>\n",
              "      <td>0.0</td>\n",
              "    </tr>\n",
              "    <tr>\n",
              "      <th>4</th>\n",
              "      <td>276.8253</td>\n",
              "      <td>5.1806</td>\n",
              "      <td>4.8622</td>\n",
              "      <td>4.7099</td>\n",
              "      <td>4.5290</td>\n",
              "      <td>4.6399</td>\n",
              "      <td>4.3291</td>\n",
              "      <td>4.2316</td>\n",
              "      <td>257.5264</td>\n",
              "      <td>3.8630</td>\n",
              "      <td>...</td>\n",
              "      <td>1.6827</td>\n",
              "      <td>0.0000</td>\n",
              "      <td>0.3654</td>\n",
              "      <td>1.2722</td>\n",
              "      <td>1.4114</td>\n",
              "      <td>1.5722</td>\n",
              "      <td>1.5142</td>\n",
              "      <td>1.1071</td>\n",
              "      <td>1.5082</td>\n",
              "      <td>0.0</td>\n",
              "    </tr>\n",
              "  </tbody>\n",
              "</table>\n",
              "<p>5 rows × 289 columns</p>\n",
              "</div>"
            ],
            "text/plain": [
              "        0       1       2       3       4       5       6       7         8    \\\n",
              "0  281.1261  5.2019  4.9755  4.8077  4.6789  4.6716  4.4699  4.4669  272.5268   \n",
              "1  336.6726  5.0464  4.8182  4.7258  4.5225  4.5546  4.4657  4.5582  328.6995   \n",
              "2  290.2059  5.0463  4.7287  4.6207  4.5631  4.5707  4.4580  4.3681  255.7782   \n",
              "3  340.9563  5.1230  4.8917  4.5914  4.6239  4.5577  4.4663  4.4310  319.4096   \n",
              "4  276.8253  5.1806  4.8622  4.7099  4.5290  4.6399  4.3291  4.2316  257.5264   \n",
              "\n",
              "      9    ...     279     280     281     282     283     284     285  \\\n",
              "0  4.6808  ...  0.9458  0.0000 -0.6543  0.0427  0.4482  0.7899  1.0149   \n",
              "1  4.1517  ...  1.0008  0.0095  1.3937  1.3188  1.3582  1.2059  1.3286   \n",
              "2  3.7374  ...  1.5204 -0.0156  1.3963  1.3386  1.4358  1.4311  1.3677   \n",
              "3  4.6115  ...  1.7294  0.0000 -0.0617  1.1793  1.1271  1.3000  1.3077   \n",
              "4  3.8630  ...  1.6827  0.0000  0.3654  1.2722  1.4114  1.5722  1.5142   \n",
              "\n",
              "      286     287  288  \n",
              "0  1.1537  1.4483  0.0  \n",
              "1  1.4715  0.8529  0.0  \n",
              "2  1.6846  1.7238  0.0  \n",
              "3  1.5584  1.6281  0.0  \n",
              "4  1.1071  1.5082  0.0  \n",
              "\n",
              "[5 rows x 289 columns]"
            ]
          },
          "execution_count": 6,
          "metadata": {},
          "output_type": "execute_result"
        }
      ],
      "source": [
        "df = pd.read_csv('/content/drive/MyDrive/Colab Notebooks/Itog/Small.csv', header=None)\n",
        "df.head()"
      ]
    },
    {
      "cell_type": "code",
      "execution_count": null,
      "id": "f19c7675",
      "metadata": {
        "id": "f19c7675"
      },
      "outputs": [],
      "source": [
        "x = df.drop(288, axis=1)\n",
        "y = df[288]\n",
        "\n",
        "X_train, X_test, y_train, y_test = train_test_split(x, y, test_size=0.2, random_state=RANDOM_STATE)"
      ]
    },
    {
      "cell_type": "code",
      "execution_count": null,
      "id": "6652f104",
      "metadata": {
        "id": "6652f104"
      },
      "outputs": [],
      "source": [
        "scaler_X = StandardScaler()\n",
        "\n",
        "X_train = scaler_X.fit_transform(X_train)\n",
        "X_test = scaler_X.transform(X_test)"
      ]
    },
    {
      "cell_type": "code",
      "execution_count": null,
      "id": "a7c6b516",
      "metadata": {
        "id": "a7c6b516"
      },
      "outputs": [],
      "source": [
        "def recall_m(y_true, y_pred):\n",
        "    true_positives = K.sum(K.round(K.clip(y_true * y_pred, 0, 1)))\n",
        "    possible_positives = K.sum(K.round(K.clip(y_true, 0, 1)))\n",
        "    recall = true_positives / (possible_positives + K.epsilon())\n",
        "    return recall\n",
        "\n",
        "def precision_m(y_true, y_pred):\n",
        "    true_positives = K.sum(K.round(K.clip(y_true * y_pred, 0, 1)))\n",
        "    predicted_positives = K.sum(K.round(K.clip(y_pred, 0, 1)))\n",
        "    precision = true_positives / (predicted_positives + K.epsilon())\n",
        "    return precision\n",
        "\n",
        "def f1_m(y_true, y_pred):\n",
        "    precision = precision_m(y_true, y_pred)\n",
        "    recall = recall_m(y_true, y_pred)\n",
        "    return 2*((precision*recall)/(precision+recall+K.epsilon()))"
      ]
    },
    {
      "cell_type": "markdown",
      "id": "370315dc",
      "metadata": {
        "id": "370315dc"
      },
      "source": [
        "### Создаем модель"
      ]
    },
    {
      "cell_type": "code",
      "execution_count": null,
      "id": "ecab3b5c",
      "metadata": {
        "id": "ecab3b5c"
      },
      "outputs": [],
      "source": [
        "model = Sequential(\n",
        "    [\n",
        "        Dense(units=512, activation=\"relu\", input_shape=(X_train.shape[-1],) ),\n",
        "        BatchNormalization(),\n",
        "        Dropout(0.3),\n",
        "        \n",
        "        Dense(units=256, activation=\"relu\"),\n",
        "        BatchNormalization(),\n",
        "        Dropout(0.3),\n",
        "        \n",
        "        Dense(units=128, activation=\"relu\"),\n",
        "        BatchNormalization(),\n",
        "        Dropout(0.3),\n",
        "        \n",
        "        Dense(units=32, activation=\"relu\" ),\n",
        "        BatchNormalization(),\n",
        "        Dropout(0.3),\n",
        "\n",
        "        Dense(units=1, activation=\"sigmoid\"),\n",
        "    ]\n",
        ")"
      ]
    },
    {
      "cell_type": "code",
      "execution_count": null,
      "id": "2943a9fc",
      "metadata": {
        "id": "2943a9fc",
        "outputId": "21c3b7e0-c284-42e1-ae02-84728417b37e"
      },
      "outputs": [
        {
          "name": "stdout",
          "output_type": "stream",
          "text": [
            "Model: \"sequential\"\n",
            "_________________________________________________________________\n",
            " Layer (type)                Output Shape              Param #   \n",
            "=================================================================\n",
            " dense (Dense)               (None, 512)               147968    \n",
            "                                                                 \n",
            " batch_normalization (BatchN  (None, 512)              2048      \n",
            " ormalization)                                                   \n",
            "                                                                 \n",
            " dropout (Dropout)           (None, 512)               0         \n",
            "                                                                 \n",
            " dense_1 (Dense)             (None, 256)               131328    \n",
            "                                                                 \n",
            " batch_normalization_1 (Batc  (None, 256)              1024      \n",
            " hNormalization)                                                 \n",
            "                                                                 \n",
            " dropout_1 (Dropout)         (None, 256)               0         \n",
            "                                                                 \n",
            " dense_2 (Dense)             (None, 128)               32896     \n",
            "                                                                 \n",
            " batch_normalization_2 (Batc  (None, 128)              512       \n",
            " hNormalization)                                                 \n",
            "                                                                 \n",
            " dropout_2 (Dropout)         (None, 128)               0         \n",
            "                                                                 \n",
            " dense_3 (Dense)             (None, 32)                4128      \n",
            "                                                                 \n",
            " batch_normalization_3 (Batc  (None, 32)               128       \n",
            " hNormalization)                                                 \n",
            "                                                                 \n",
            " dropout_3 (Dropout)         (None, 32)                0         \n",
            "                                                                 \n",
            " dense_4 (Dense)             (None, 1)                 33        \n",
            "                                                                 \n",
            "=================================================================\n",
            "Total params: 320,065\n",
            "Trainable params: 318,209\n",
            "Non-trainable params: 1,856\n",
            "_________________________________________________________________\n"
          ]
        }
      ],
      "source": [
        "model.summary()"
      ]
    },
    {
      "cell_type": "markdown",
      "id": "93e32184",
      "metadata": {
        "id": "93e32184"
      },
      "source": [
        "### Создадим EarlyStopping и ModelCheckpoint"
      ]
    },
    {
      "cell_type": "code",
      "execution_count": null,
      "id": "98e5bbe6",
      "metadata": {
        "id": "98e5bbe6"
      },
      "outputs": [],
      "source": [
        "early_stopping = EarlyStopping(\n",
        "    min_delta = 0.005, \n",
        "    patience  = 30,     \n",
        "    restore_best_weights=True,\n",
        ")\n",
        "\n",
        "filepath = 'my_best_model.hdf5'\n",
        "checkpoint = ModelCheckpoint(filepath=filepath, \n",
        "                             monitor='val_f1_m',\n",
        "                             verbose=1, \n",
        "                             save_best_only=True,\n",
        "                             mode='max')"
      ]
    },
    {
      "cell_type": "code",
      "execution_count": null,
      "id": "1167cf53",
      "metadata": {
        "id": "1167cf53"
      },
      "outputs": [],
      "source": [
        "model.compile(loss='binary_crossentropy',\n",
        "              optimizer='adam',\n",
        "              metrics=[f1_m])"
      ]
    },
    {
      "cell_type": "code",
      "execution_count": null,
      "id": "127c80b5",
      "metadata": {
        "id": "127c80b5",
        "outputId": "c1662e0d-6af6-4bb2-a65b-537b15415dc5"
      },
      "outputs": [
        {
          "name": "stdout",
          "output_type": "stream",
          "text": [
            "Epoch 1/300\n",
            "76/79 [===========================>..] - ETA: 0s - loss: 0.6669 - f1_m: 0.2374\n",
            "Epoch 1: val_f1_m improved from -inf to 0.46718, saving model to my_best_model.hdf5\n",
            "79/79 [==============================] - 3s 22ms/step - loss: 0.6629 - f1_m: 0.2397 - val_loss: 0.4305 - val_f1_m: 0.4672\n",
            "Epoch 2/300\n",
            "76/79 [===========================>..] - ETA: 0s - loss: 0.4036 - f1_m: 0.4489\n",
            "Epoch 2: val_f1_m improved from 0.46718 to 0.73623, saving model to my_best_model.hdf5\n",
            "79/79 [==============================] - 2s 20ms/step - loss: 0.4010 - f1_m: 0.4520 - val_loss: 0.1861 - val_f1_m: 0.7362\n",
            "Epoch 3/300\n",
            "76/79 [===========================>..] - ETA: 0s - loss: 0.2263 - f1_m: 0.6729\n",
            "Epoch 3: val_f1_m improved from 0.73623 to 0.78350, saving model to my_best_model.hdf5\n",
            "79/79 [==============================] - 2s 20ms/step - loss: 0.2249 - f1_m: 0.6742 - val_loss: 0.1093 - val_f1_m: 0.7835\n",
            "Epoch 4/300\n",
            "76/79 [===========================>..] - ETA: 0s - loss: 0.1398 - f1_m: 0.7848\n",
            "Epoch 4: val_f1_m improved from 0.78350 to 0.83621, saving model to my_best_model.hdf5\n",
            "79/79 [==============================] - 2s 21ms/step - loss: 0.1392 - f1_m: 0.7863 - val_loss: 0.0768 - val_f1_m: 0.8362\n",
            "Epoch 5/300\n",
            "76/79 [===========================>..] - ETA: 0s - loss: 0.0990 - f1_m: 0.8362\n",
            "Epoch 5: val_f1_m improved from 0.83621 to 0.88762, saving model to my_best_model.hdf5\n",
            "79/79 [==============================] - 2s 21ms/step - loss: 0.0985 - f1_m: 0.8376 - val_loss: 0.0563 - val_f1_m: 0.8876\n",
            "Epoch 6/300\n",
            "76/79 [===========================>..] - ETA: 0s - loss: 0.0719 - f1_m: 0.8838\n",
            "Epoch 6: val_f1_m improved from 0.88762 to 0.90583, saving model to my_best_model.hdf5\n",
            "79/79 [==============================] - 2s 21ms/step - loss: 0.0716 - f1_m: 0.8848 - val_loss: 0.0473 - val_f1_m: 0.9058\n",
            "Epoch 7/300\n",
            "76/79 [===========================>..] - ETA: 0s - loss: 0.0569 - f1_m: 0.9068\n",
            "Epoch 7: val_f1_m improved from 0.90583 to 0.93101, saving model to my_best_model.hdf5\n",
            "79/79 [==============================] - 2s 21ms/step - loss: 0.0571 - f1_m: 0.9039 - val_loss: 0.0375 - val_f1_m: 0.9310\n",
            "Epoch 8/300\n",
            "76/79 [===========================>..] - ETA: 0s - loss: 0.0542 - f1_m: 0.9097\n",
            "Epoch 8: val_f1_m improved from 0.93101 to 0.94049, saving model to my_best_model.hdf5\n",
            "79/79 [==============================] - 2s 21ms/step - loss: 0.0542 - f1_m: 0.9102 - val_loss: 0.0341 - val_f1_m: 0.9405\n",
            "Epoch 9/300\n",
            "76/79 [===========================>..] - ETA: 0s - loss: 0.0420 - f1_m: 0.9314\n",
            "Epoch 9: val_f1_m improved from 0.94049 to 0.95236, saving model to my_best_model.hdf5\n",
            "79/79 [==============================] - 2s 21ms/step - loss: 0.0424 - f1_m: 0.9306 - val_loss: 0.0294 - val_f1_m: 0.9524\n",
            "Epoch 10/300\n",
            "76/79 [===========================>..] - ETA: 0s - loss: 0.0359 - f1_m: 0.9417\n",
            "Epoch 10: val_f1_m did not improve from 0.95236\n",
            "79/79 [==============================] - 2s 20ms/step - loss: 0.0361 - f1_m: 0.9416 - val_loss: 0.0283 - val_f1_m: 0.9512\n",
            "Epoch 11/300\n",
            "76/79 [===========================>..] - ETA: 0s - loss: 0.0336 - f1_m: 0.9462\n",
            "Epoch 11: val_f1_m improved from 0.95236 to 0.96069, saving model to my_best_model.hdf5\n",
            "79/79 [==============================] - 2s 21ms/step - loss: 0.0335 - f1_m: 0.9464 - val_loss: 0.0245 - val_f1_m: 0.9607\n",
            "Epoch 12/300\n",
            "76/79 [===========================>..] - ETA: 0s - loss: 0.0289 - f1_m: 0.9517\n",
            "Epoch 12: val_f1_m did not improve from 0.96069\n",
            "79/79 [==============================] - 2s 21ms/step - loss: 0.0288 - f1_m: 0.9517 - val_loss: 0.0238 - val_f1_m: 0.9586\n",
            "Epoch 13/300\n",
            "76/79 [===========================>..] - ETA: 0s - loss: 0.0262 - f1_m: 0.9541\n",
            "Epoch 13: val_f1_m improved from 0.96069 to 0.96443, saving model to my_best_model.hdf5\n",
            "79/79 [==============================] - 2s 21ms/step - loss: 0.0262 - f1_m: 0.9541 - val_loss: 0.0218 - val_f1_m: 0.9644\n",
            "Epoch 14/300\n",
            "76/79 [===========================>..] - ETA: 0s - loss: 0.0242 - f1_m: 0.9592\n",
            "Epoch 14: val_f1_m improved from 0.96443 to 0.96516, saving model to my_best_model.hdf5\n",
            "79/79 [==============================] - 2s 21ms/step - loss: 0.0243 - f1_m: 0.9583 - val_loss: 0.0204 - val_f1_m: 0.9652\n",
            "Epoch 15/300\n",
            "76/79 [===========================>..] - ETA: 0s - loss: 0.0211 - f1_m: 0.9637\n",
            "Epoch 15: val_f1_m did not improve from 0.96516\n",
            "79/79 [==============================] - 2s 20ms/step - loss: 0.0211 - f1_m: 0.9640 - val_loss: 0.0218 - val_f1_m: 0.9608\n",
            "Epoch 16/300\n",
            "76/79 [===========================>..] - ETA: 0s - loss: 0.0193 - f1_m: 0.9664\n",
            "Epoch 16: val_f1_m improved from 0.96516 to 0.97062, saving model to my_best_model.hdf5\n",
            "79/79 [==============================] - 2s 21ms/step - loss: 0.0193 - f1_m: 0.9662 - val_loss: 0.0191 - val_f1_m: 0.9706\n",
            "Epoch 17/300\n",
            "76/79 [===========================>..] - ETA: 0s - loss: 0.0172 - f1_m: 0.9704\n",
            "Epoch 17: val_f1_m did not improve from 0.97062\n",
            "79/79 [==============================] - 2s 21ms/step - loss: 0.0171 - f1_m: 0.9702 - val_loss: 0.0200 - val_f1_m: 0.9664\n",
            "Epoch 18/300\n",
            "76/79 [===========================>..] - ETA: 0s - loss: 0.0152 - f1_m: 0.9738\n",
            "Epoch 18: val_f1_m did not improve from 0.97062\n",
            "79/79 [==============================] - 2s 20ms/step - loss: 0.0152 - f1_m: 0.9732 - val_loss: 0.0185 - val_f1_m: 0.9705\n",
            "Epoch 19/300\n",
            "76/79 [===========================>..] - ETA: 0s - loss: 0.0153 - f1_m: 0.9740\n",
            "Epoch 19: val_f1_m did not improve from 0.97062\n",
            "79/79 [==============================] - 2s 21ms/step - loss: 0.0154 - f1_m: 0.9743 - val_loss: 0.0199 - val_f1_m: 0.9686\n",
            "Epoch 20/300\n",
            "76/79 [===========================>..] - ETA: 0s - loss: 0.0130 - f1_m: 0.9765\n",
            "Epoch 20: val_f1_m did not improve from 0.97062\n",
            "79/79 [==============================] - 2s 21ms/step - loss: 0.0131 - f1_m: 0.9767 - val_loss: 0.0195 - val_f1_m: 0.9687\n",
            "Epoch 21/300\n",
            "76/79 [===========================>..] - ETA: 0s - loss: 0.0125 - f1_m: 0.9778\n",
            "Epoch 21: val_f1_m improved from 0.97062 to 0.97344, saving model to my_best_model.hdf5\n",
            "79/79 [==============================] - 2s 21ms/step - loss: 0.0124 - f1_m: 0.9780 - val_loss: 0.0171 - val_f1_m: 0.9734\n",
            "Epoch 22/300\n",
            "76/79 [===========================>..] - ETA: 0s - loss: 0.0099 - f1_m: 0.9817\n",
            "Epoch 22: val_f1_m improved from 0.97344 to 0.97403, saving model to my_best_model.hdf5\n",
            "79/79 [==============================] - 2s 21ms/step - loss: 0.0099 - f1_m: 0.9820 - val_loss: 0.0173 - val_f1_m: 0.9740\n",
            "Epoch 23/300\n",
            "76/79 [===========================>..] - ETA: 0s - loss: 0.0116 - f1_m: 0.9789\n",
            "Epoch 23: val_f1_m did not improve from 0.97403\n",
            "79/79 [==============================] - 2s 21ms/step - loss: 0.0115 - f1_m: 0.9793 - val_loss: 0.0181 - val_f1_m: 0.9707\n",
            "Epoch 24/300\n",
            "76/79 [===========================>..] - ETA: 0s - loss: 0.0097 - f1_m: 0.9823\n",
            "Epoch 24: val_f1_m did not improve from 0.97403\n",
            "79/79 [==============================] - 2s 21ms/step - loss: 0.0097 - f1_m: 0.9820 - val_loss: 0.0179 - val_f1_m: 0.9701\n",
            "Epoch 25/300\n",
            "76/79 [===========================>..] - ETA: 0s - loss: 0.0114 - f1_m: 0.9800\n",
            "Epoch 25: val_f1_m improved from 0.97403 to 0.97566, saving model to my_best_model.hdf5\n",
            "79/79 [==============================] - 2s 22ms/step - loss: 0.0113 - f1_m: 0.9802 - val_loss: 0.0158 - val_f1_m: 0.9757\n",
            "Epoch 26/300\n",
            "76/79 [===========================>..] - ETA: 0s - loss: 0.0085 - f1_m: 0.9840\n",
            "Epoch 26: val_f1_m did not improve from 0.97566\n",
            "79/79 [==============================] - 2s 21ms/step - loss: 0.0085 - f1_m: 0.9843 - val_loss: 0.0187 - val_f1_m: 0.9695\n",
            "Epoch 27/300\n",
            "76/79 [===========================>..] - ETA: 0s - loss: 0.0086 - f1_m: 0.9839\n",
            "Epoch 27: val_f1_m did not improve from 0.97566\n",
            "79/79 [==============================] - 2s 21ms/step - loss: 0.0087 - f1_m: 0.9839 - val_loss: 0.0150 - val_f1_m: 0.9747\n",
            "Epoch 28/300\n",
            "76/79 [===========================>..] - ETA: 0s - loss: 0.0077 - f1_m: 0.9858\n",
            "Epoch 28: val_f1_m improved from 0.97566 to 0.97583, saving model to my_best_model.hdf5\n",
            "79/79 [==============================] - 2s 22ms/step - loss: 0.0078 - f1_m: 0.9857 - val_loss: 0.0150 - val_f1_m: 0.9758\n",
            "Epoch 29/300\n",
            "76/79 [===========================>..] - ETA: 0s - loss: 0.0073 - f1_m: 0.9869\n",
            "Epoch 29: val_f1_m improved from 0.97583 to 0.97838, saving model to my_best_model.hdf5\n",
            "79/79 [==============================] - 2s 22ms/step - loss: 0.0072 - f1_m: 0.9871 - val_loss: 0.0156 - val_f1_m: 0.9784\n",
            "Epoch 30/300\n",
            "76/79 [===========================>..] - ETA: 0s - loss: 0.0057 - f1_m: 0.9897\n",
            "Epoch 30: val_f1_m did not improve from 0.97838\n",
            "79/79 [==============================] - 2s 21ms/step - loss: 0.0058 - f1_m: 0.9897 - val_loss: 0.0148 - val_f1_m: 0.9773\n",
            "Epoch 31/300\n",
            "76/79 [===========================>..] - ETA: 0s - loss: 0.0062 - f1_m: 0.9891\n",
            "Epoch 31: val_f1_m improved from 0.97838 to 0.97977, saving model to my_best_model.hdf5\n",
            "79/79 [==============================] - 2s 21ms/step - loss: 0.0061 - f1_m: 0.9893 - val_loss: 0.0135 - val_f1_m: 0.9798\n",
            "Epoch 32/300\n",
            "76/79 [===========================>..] - ETA: 0s - loss: 0.0066 - f1_m: 0.9874\n",
            "Epoch 32: val_f1_m did not improve from 0.97977\n",
            "79/79 [==============================] - 2s 21ms/step - loss: 0.0067 - f1_m: 0.9876 - val_loss: 0.0175 - val_f1_m: 0.9740\n",
            "Epoch 33/300\n",
            "76/79 [===========================>..] - ETA: 0s - loss: 0.0065 - f1_m: 0.9884\n",
            "Epoch 33: val_f1_m did not improve from 0.97977\n",
            "79/79 [==============================] - 2s 21ms/step - loss: 0.0064 - f1_m: 0.9886 - val_loss: 0.0167 - val_f1_m: 0.9785\n",
            "Epoch 34/300\n",
            "76/79 [===========================>..] - ETA: 0s - loss: 0.0065 - f1_m: 0.9878\n",
            "Epoch 34: val_f1_m did not improve from 0.97977\n",
            "79/79 [==============================] - 2s 21ms/step - loss: 0.0064 - f1_m: 0.9881 - val_loss: 0.0153 - val_f1_m: 0.9775\n",
            "Epoch 35/300\n",
            "76/79 [===========================>..] - ETA: 0s - loss: 0.0048 - f1_m: 0.9913\n",
            "Epoch 35: val_f1_m improved from 0.97977 to 0.97996, saving model to my_best_model.hdf5\n",
            "79/79 [==============================] - 2s 22ms/step - loss: 0.0048 - f1_m: 0.9913 - val_loss: 0.0150 - val_f1_m: 0.9800\n",
            "Epoch 36/300\n",
            "76/79 [===========================>..] - ETA: 0s - loss: 0.0055 - f1_m: 0.9899\n",
            "Epoch 36: val_f1_m did not improve from 0.97996\n",
            "79/79 [==============================] - 2s 21ms/step - loss: 0.0054 - f1_m: 0.9902 - val_loss: 0.0157 - val_f1_m: 0.9774\n",
            "Epoch 37/300\n",
            "76/79 [===========================>..] - ETA: 0s - loss: 0.0054 - f1_m: 0.9906\n",
            "Epoch 37: val_f1_m did not improve from 0.97996\n",
            "79/79 [==============================] - 2s 21ms/step - loss: 0.0054 - f1_m: 0.9908 - val_loss: 0.0154 - val_f1_m: 0.9793\n",
            "Epoch 38/300\n",
            "76/79 [===========================>..] - ETA: 0s - loss: 0.0054 - f1_m: 0.9908\n",
            "Epoch 38: val_f1_m did not improve from 0.97996\n",
            "79/79 [==============================] - 2s 21ms/step - loss: 0.0057 - f1_m: 0.9906 - val_loss: 0.0170 - val_f1_m: 0.9760\n",
            "Epoch 39/300\n",
            "76/79 [===========================>..] - ETA: 0s - loss: 0.0055 - f1_m: 0.9894\n",
            "Epoch 39: val_f1_m did not improve from 0.97996\n",
            "79/79 [==============================] - 2s 21ms/step - loss: 0.0054 - f1_m: 0.9896 - val_loss: 0.0158 - val_f1_m: 0.9782\n",
            "Epoch 40/300\n",
            "76/79 [===========================>..] - ETA: 0s - loss: 0.0049 - f1_m: 0.9906\n",
            "Epoch 40: val_f1_m did not improve from 0.97996\n",
            "79/79 [==============================] - 2s 21ms/step - loss: 0.0049 - f1_m: 0.9906 - val_loss: 0.0166 - val_f1_m: 0.9773\n",
            "Epoch 41/300\n",
            "79/79 [==============================] - ETA: 0s - loss: 0.0054 - f1_m: 0.9892\n",
            "Epoch 41: val_f1_m improved from 0.97996 to 0.98139, saving model to my_best_model.hdf5\n",
            "79/79 [==============================] - 2s 22ms/step - loss: 0.0054 - f1_m: 0.9892 - val_loss: 0.0138 - val_f1_m: 0.9814\n",
            "Epoch 42/300\n",
            "76/79 [===========================>..] - ETA: 0s - loss: 0.0051 - f1_m: 0.9906\n",
            "Epoch 42: val_f1_m did not improve from 0.98139\n",
            "79/79 [==============================] - 2s 21ms/step - loss: 0.0053 - f1_m: 0.9903 - val_loss: 0.0153 - val_f1_m: 0.9799\n",
            "Epoch 43/300\n",
            "76/79 [===========================>..] - ETA: 0s - loss: 0.0047 - f1_m: 0.9910\n",
            "Epoch 43: val_f1_m did not improve from 0.98139\n",
            "79/79 [==============================] - 2s 21ms/step - loss: 0.0047 - f1_m: 0.9912 - val_loss: 0.0145 - val_f1_m: 0.9796\n",
            "Epoch 44/300\n",
            "76/79 [===========================>..] - ETA: 0s - loss: 0.0045 - f1_m: 0.9918\n",
            "Epoch 44: val_f1_m did not improve from 0.98139\n",
            "79/79 [==============================] - 2s 21ms/step - loss: 0.0047 - f1_m: 0.9917 - val_loss: 0.0165 - val_f1_m: 0.9772\n",
            "Epoch 45/300\n",
            "76/79 [===========================>..] - ETA: 0s - loss: 0.0058 - f1_m: 0.9888\n",
            "Epoch 45: val_f1_m did not improve from 0.98139\n",
            "79/79 [==============================] - 2s 21ms/step - loss: 0.0057 - f1_m: 0.9891 - val_loss: 0.0145 - val_f1_m: 0.9792\n",
            "Epoch 46/300\n",
            "76/79 [===========================>..] - ETA: 0s - loss: 0.0041 - f1_m: 0.9927\n",
            "Epoch 46: val_f1_m did not improve from 0.98139\n",
            "79/79 [==============================] - 2s 21ms/step - loss: 0.0040 - f1_m: 0.9929 - val_loss: 0.0153 - val_f1_m: 0.9792\n",
            "Epoch 47/300\n",
            "79/79 [==============================] - ETA: 0s - loss: 0.0043 - f1_m: 0.9911\n",
            "Epoch 47: val_f1_m did not improve from 0.98139\n",
            "79/79 [==============================] - 2s 21ms/step - loss: 0.0043 - f1_m: 0.9911 - val_loss: 0.0137 - val_f1_m: 0.9806\n",
            "Epoch 48/300\n",
            "76/79 [===========================>..] - ETA: 0s - loss: 0.0038 - f1_m: 0.9923\n",
            "Epoch 48: val_f1_m did not improve from 0.98139\n",
            "79/79 [==============================] - 2s 21ms/step - loss: 0.0041 - f1_m: 0.9912 - val_loss: 0.0157 - val_f1_m: 0.9761\n"
          ]
        }
      ],
      "source": [
        "results = model.fit(X_train, y_train, validation_data = (X_test, y_test), \n",
        "                    batch_size = 1024, epochs=300, callbacks=[early_stopping, checkpoint])"
      ]
    },
    {
      "cell_type": "code",
      "execution_count": null,
      "id": "4de24ed2",
      "metadata": {
        "id": "4de24ed2"
      },
      "outputs": [],
      "source": [
        "#Загружаем лучшую модель\n",
        "model = load_model(filepath, custom_objects={\"f1_m\": f1_m })"
      ]
    },
    {
      "cell_type": "code",
      "execution_count": null,
      "id": "695cf2ed",
      "metadata": {
        "id": "695cf2ed",
        "outputId": "8c71a945-0b6b-4552-a22f-3add1eae92d2"
      },
      "outputs": [
        {
          "name": "stdout",
          "output_type": "stream",
          "text": [
            "625/625 [==============================] - 1s 749us/step\n"
          ]
        }
      ],
      "source": [
        "predict_keras = model.predict(X_test)\n",
        "predict_keras = np.array(predict_keras.flatten(), dtype='float64')"
      ]
    },
    {
      "cell_type": "code",
      "execution_count": null,
      "id": "f2f3aa70",
      "metadata": {
        "id": "f2f3aa70",
        "outputId": "3a6cdf83-93a3-48d1-fc6e-b192c7770285"
      },
      "outputs": [
        {
          "name": "stdout",
          "output_type": "stream",
          "text": [
            "F1 score: 0.981712576941288\n"
          ]
        }
      ],
      "source": [
        "f1_1 = f1_m(y_true=y_test,\n",
        "                y_pred=predict_keras).numpy()\n",
        "\n",
        "print(f\"F1 score: {f1_1}\")"
      ]
    },
    {
      "cell_type": "code",
      "execution_count": null,
      "id": "84185d48",
      "metadata": {
        "id": "84185d48"
      },
      "outputs": [],
      "source": [
        "def display_f1_m():\n",
        "    plt.plot(results.history['f1_m'])\n",
        "    plt.plot(results.history['val_f1_m'])\n",
        "\n",
        "    plt.title('Model accuracy')\n",
        "    plt.ylabel('Accuracy')\n",
        "    plt.xlabel('Epoch')\n",
        "    plt.legend(['Train', 'Test'], loc='upper left')\n",
        "    plt.show()\n",
        "\n",
        "def display_loss():\n",
        "    plt.plot(results.history['loss'])\n",
        "    plt.plot(results.history['val_loss'])\n",
        "\n",
        "    plt.title('Model loss')\n",
        "    plt.ylabel('Loss')\n",
        "    plt.xlabel('Epoch')\n",
        "    plt.legend(['Train', 'Test'], loc='upper left')\n",
        "    plt.show()"
      ]
    },
    {
      "cell_type": "code",
      "execution_count": null,
      "id": "dac1ea0b",
      "metadata": {
        "id": "dac1ea0b",
        "outputId": "35d67913-4668-4b21-a14b-344bfda6876c"
      },
      "outputs": [
        {
          "data": {
            "image/png": "[encoded data removed]",
            "text/plain": [
              "<Figure size 1500x1000 with 1 Axes>"
            ]
          },
          "metadata": {},
          "output_type": "display_data"
        },
        {
          "data": {
            "image/png": "[encoded data removed]",
            "text/plain": [
              "<Figure size 1500x1000 with 1 Axes>"
            ]
          },
          "metadata": {},
          "output_type": "display_data"
        }
      ],
      "source": [
        "display_f1_m()\n",
        "display_loss()"
      ]
    },
    {
      "cell_type": "markdown",
      "id": "5797a102",
      "metadata": {
        "id": "5797a102"
      },
      "source": [
        "### ML"
      ]
    },
    {
      "cell_type": "code",
      "execution_count": null,
      "id": "e24c753f",
      "metadata": {
        "id": "e24c753f"
      },
      "outputs": [],
      "source": [
        "from sklearn.pipeline import Pipeline\n",
        "\n",
        "import imblearn\n",
        "from imblearn.pipeline import  Pipeline as imbPipeline\n",
        "from imblearn.over_sampling import SMOTE\n",
        "from sklearn.metrics import f1_score\n",
        "\n",
        "from sklearn.neighbors import KNeighborsClassifier\n",
        "from sklearn.tree import DecisionTreeClassifier\n",
        "from sklearn.naive_bayes import GaussianNB\n",
        "from sklearn.ensemble import RandomForestClassifier\n",
        "from lightgbm import LGBMClassifier\n",
        "\n",
        "from sklearn.model_selection import GridSearchCV\n",
        "\n",
        "from sklearn.experimental import enable_halving_search_cv   \n",
        "from sklearn.model_selection import HalvingGridSearchCV"
      ]
    },
    {
      "cell_type": "markdown",
      "source": [
        "Используем  метод sklearn.model_selection.HalvingGridSearchCV. Он спроектирован так, чтобы быть распределенным и эффективным с более высокой скоростью привода и более высокой эффективностью, меньшим использованием памяти и большей точностью.\n",
        "https://runebook.dev/ru/docs/scikit_learn/modules/generated/sklearn.model_selection.halvinggridsearchcv\n",
        "https://towardsdatascience.com/faster-hyperparameter-tuning-with-scikit-learn-71aa76d06f12\n",
        "\n",
        "Можно использовать GridSearchCV, но на него требуется больше время для обучения.\n"
      ],
      "metadata": {
        "id": "Gu4SDd76GtVB"
      },
      "id": "Gu4SDd76GtVB"
    },
    {
      "cell_type": "code",
      "source": [
        "from sklearn.experimental import enable_halving_search_cv   \n",
        "from sklearn.model_selection import HalvingGridSearchCV\n"
      ],
      "metadata": {
        "id": "m0gZP2VLHEdF"
      },
      "id": "m0gZP2VLHEdF",
      "execution_count": null,
      "outputs": []
    },
    {
      "cell_type": "markdown",
      "id": "885ad8ef",
      "metadata": {
        "id": "885ad8ef"
      },
      "source": [
        "### K ближайших соседей"
      ]
    },
    {
      "cell_type": "code",
      "execution_count": null,
      "id": "dd6fa7f5",
      "metadata": {
        "id": "dd6fa7f5",
        "outputId": "732b7aeb-b358-43c6-a069-3e26da801d59"
      },
      "outputs": [
        {
          "name": "stdout",
          "output_type": "stream",
          "text": [
            "Best score: 0.658302518473915, Best params: {'n_neighbors': 9}\n",
            "Test: 0.7090642810321208\n"
          ]
        }
      ],
      "source": [
        "knn_model = KNeighborsClassifier()\n",
        "\n",
        "parameters = {\n",
        "    'n_neighbors': range(1, 10)\n",
        "}\n",
        "\n",
        "grid_search_knn = HalvingGridSearchCV(knn_model, parameters, cv=3, n_jobs=-1, \n",
        "                                       scoring='f1', verbose=False)\n",
        "grid_search_knn.fit(X_train, y_train)\n",
        "\n",
        "print(f\"Best score: {abs(grid_search_knn.best_score_)}, Best params: {grid_search_knn.best_params_}\")\n",
        "\n",
        "f1_2 = f1_m(y_test, K.round(grid_search_knn.predict_proba(X_test)[:,1])).numpy()\n",
        "print(f\"Test: {f1_2}\")"
      ]
    },
    {
      "cell_type": "markdown",
      "id": "b836eff8",
      "metadata": {
        "id": "b836eff8"
      },
      "source": [
        "### Деревья решений"
      ]
    },
    {
      "cell_type": "code",
      "execution_count": null,
      "id": "611f9984",
      "metadata": {
        "id": "611f9984",
        "outputId": "9fef6c17-2f9a-42cf-d26f-06c5b3c05204"
      },
      "outputs": [
        {
          "name": "stdout",
          "output_type": "stream",
          "text": [
            "Best score: 0.7933024601594761, Best params: {'max_depth': 35, 'min_samples_leaf': 2, 'min_samples_split': 3}\n",
            "Test: 0.8617933799941364\n"
          ]
        }
      ],
      "source": [
        "model_tree = DecisionTreeClassifier(random_state=RANDOM_STATE)\n",
        "\n",
        "parameters = {\n",
        "    'min_samples_split': range(2, 4),\n",
        "    'min_samples_leaf': range(1, 4),\n",
        "    'max_depth': range(20, 40, 5)\n",
        "}\n",
        "\n",
        "grid_search_tree = HalvingGridSearchCV(model_tree, parameters, cv=3, n_jobs=-1, \n",
        "                                       scoring='f1', verbose=False)\n",
        "grid_search_tree.fit(X_train, y_train);\n",
        "\n",
        "print(f\"Best score: {abs(grid_search_tree.best_score_)}, Best params: {grid_search_tree.best_params_}\")\n",
        "\n",
        "f1_3 = f1_m(y_test, K.round(grid_search_tree.predict_proba(X_test)[:,1])).numpy()\n",
        "print(f\"Test: {f1_3}\")"
      ]
    },
    {
      "cell_type": "markdown",
      "id": "4fb43338",
      "metadata": {
        "id": "4fb43338"
      },
      "source": [
        "### Случайный лес (классификация)"
      ]
    },
    {
      "cell_type": "code",
      "execution_count": null,
      "id": "1a48bfbc",
      "metadata": {
        "id": "1a48bfbc",
        "outputId": "fd7e6315-c89e-413a-f273-479a30d1d2bc"
      },
      "outputs": [
        {
          "name": "stdout",
          "output_type": "stream",
          "text": [
            "Best score: 0.8382497552315754, Best params: {'class_weight': 'balanced', 'max_depth': 130, 'max_features': 'sqrt', 'min_samples_leaf': 10, 'min_samples_split': 7, 'n_estimators': 100}\n",
            "Test: 0.9019115767750931\n"
          ]
        }
      ],
      "source": [
        "model_forest = RandomForestClassifier(random_state=RANDOM_STATE)\n",
        "\n",
        "parameters = {\n",
        "    'min_samples_split': range(6, 9),\n",
        "    'min_samples_leaf': range(9, 11),\n",
        "    'max_depth': range(130, 150, 10),\n",
        "    'max_features':['auto', \"sqrt\"],\n",
        "    'n_estimators': [100, 200],\n",
        "    'class_weight': [None, \"balanced\"]\n",
        "}\n",
        "grid_search_forest = HalvingGridSearchCV(model_forest, parameters, cv=3, n_jobs=-1, scoring='f1', verbose=False)\n",
        "grid_search_forest.fit(X_train, y_train)\n",
        "\n",
        "print(f\"Best score: {abs(grid_search_forest.best_score_)}, Best params: {grid_search_forest.best_params_}\")\n",
        "\n",
        "f1_4 = f1_m(y_test, K.round(grid_search_forest.predict_proba(X_test)[:,1])).numpy()\n",
        "print(f\"Test: {f1_4}\")"
      ]
    },
    {
      "cell_type": "markdown",
      "id": "47c0f968",
      "metadata": {
        "id": "47c0f968"
      },
      "source": [
        "### Light Gradient Boosted Machine LGBMClassifier"
      ]
    },
    {
      "cell_type": "code",
      "execution_count": null,
      "id": "b474b2bf",
      "metadata": {
        "id": "b474b2bf",
        "outputId": "ce1d48bc-3a0f-4298-befd-a893e9f75675"
      },
      "outputs": [
        {
          "name": "stdout",
          "output_type": "stream",
          "text": [
            "Best score: 0.952911893293984, Best params: {'learning_rate': 0.5, 'max_depth': 12, 'n_estimators': 400}\n",
            "Test: 0.9777517063955328\n"
          ]
        }
      ],
      "source": [
        "model_light = LGBMClassifier(random_state=RANDOM_STATE)\n",
        "\n",
        "parameters = {\n",
        "    'n_estimators': range(300, 500, 50),\n",
        "    'max_depth': range(9, 14),\n",
        "    'learning_rate': [0.5, 0.05]\n",
        "}\n",
        "\n",
        "\n",
        "grid_search_light = HalvingGridSearchCV(model_light, parameters, cv=3, n_jobs=-1, \n",
        "                                       scoring='f1', verbose=False)\n",
        "grid_search_light.fit(X_train, y_train)\n",
        "\n",
        "print(f\"Best score: {abs(grid_search_light.best_score_)}, Best params: {grid_search_light.best_params_}\")\n",
        "\n",
        "f1_5 = f1_m(y_test, K.round(grid_search_light.predict_proba(X_test)[:,1])).numpy()\n",
        "print(f\"Test: {f1_5}\")"
      ]
    },
    {
      "cell_type": "markdown",
      "id": "f6cb5098",
      "metadata": {
        "id": "f6cb5098"
      },
      "source": [
        "#### Теперь отбалансируем данные с помощью SMOTE\n",
        "\n",
        "\n",
        "1. DecisionTreeClassifier\n",
        "2. RandomForestClassifier\n",
        "3. LGBMClassifier\n",
        "\n",
        "\n",
        "Про SMOTE:\n",
        "\n",
        "+  https://medium.com/nuances-of-programming/smote-метод-увеличения-числа-примеров-миноритарного-класса-da91a62f9914\n",
        "+  https://imbalanced-learn.org/stable/user_guide.html#user-guide"
      ]
    },
    {
      "cell_type": "markdown",
      "id": "fdf57f0e",
      "metadata": {
        "id": "fdf57f0e"
      },
      "source": [
        "### Light Gradient Boosted Machine LGBMClassifier SMOTE"
      ]
    },
    {
      "cell_type": "code",
      "execution_count": null,
      "id": "d160f917",
      "metadata": {
        "id": "d160f917",
        "outputId": "a6af5995-0efb-46f9-ef5d-ccf7791ab2ae"
      },
      "outputs": [
        {
          "name": "stdout",
          "output_type": "stream",
          "text": [
            "Best score: 0.9608880581293929, Best params: {'light__learning_rate': 0.5, 'light__max_depth': 10, 'light__n_estimators': 450}\n",
            "Test: 0.9772195761201705\n"
          ]
        }
      ],
      "source": [
        "pipeline_light_smote = imbPipeline(steps=[\n",
        "                            ('smote', SMOTE(random_state=RANDOM_STATE)),\n",
        "                            ('light', LGBMClassifier(random_state=RANDOM_STATE))\n",
        "                          ])\n",
        "\n",
        "parameters = {\n",
        "    'light__n_estimators': range(300, 500, 50),\n",
        "    'light__max_depth': range(9, 14),\n",
        "    'light__learning_rate': [0.1, 0.5, 0.05]\n",
        "}\n",
        "\n",
        "grid_search_light_smote = HalvingGridSearchCV(pipeline_light_smote, parameters, cv=3, n_jobs=-1, \n",
        "                                       scoring='f1', verbose=False)\n",
        "grid_search_light_smote.fit(X_train, y_train)\n",
        "\n",
        "print(f\"Best score: {abs(grid_search_light_smote.best_score_)}, Best params: {grid_search_light_smote.best_params_}\")\n",
        "\n",
        "f1_6 = f1_m(y_test, K.round(grid_search_light_smote.predict_proba(X_test)[:,1])).numpy()\n",
        "print(f\"Test: {f1_6}\")"
      ]
    },
    {
      "cell_type": "markdown",
      "id": "c512d987",
      "metadata": {
        "id": "c512d987"
      },
      "source": [
        "### DecisionTreeClassifier SMOTE"
      ]
    },
    {
      "cell_type": "code",
      "execution_count": null,
      "id": "041ecf71",
      "metadata": {
        "id": "041ecf71",
        "outputId": "7250a1c9-563a-44f5-a707-099d338f0ef7"
      },
      "outputs": [
        {
          "name": "stdout",
          "output_type": "stream",
          "text": [
            "Best score: 0.5658607041006616, Best params: {'tree__max_depth': 35, 'tree__min_samples_leaf': 2, 'tree__min_samples_split': 2}\n",
            "Test: 0.6124323825925387\n"
          ]
        }
      ],
      "source": [
        "pipeline_tree_smote = imbPipeline(steps=[\n",
        "                            ('smote', SMOTE(random_state=RANDOM_STATE)),\n",
        "                            ('tree', DecisionTreeClassifier(random_state=RANDOM_STATE))\n",
        "                          ])\n",
        "\n",
        "parameters = {\n",
        "    'tree__min_samples_split': range(2, 4),\n",
        "    'tree__min_samples_leaf': range(1, 4),\n",
        "    'tree__max_depth': range(20, 40, 5)\n",
        "}\n",
        "\n",
        "grid_search_tree_smote = HalvingGridSearchCV(pipeline_tree_smote, parameters, cv=3, n_jobs=-1, \n",
        "                                       scoring='f1', verbose=False)\n",
        "grid_search_tree_smote.fit(X_train, y_train);\n",
        "\n",
        "print(f\"Best score: {abs(grid_search_tree_smote.best_score_)}, Best params: {grid_search_tree_smote.best_params_}\")\n",
        "\n",
        "f1_7 = f1_m(y_test, K.round(grid_search_tree_smote.predict_proba(X_test)[:,1])).numpy()\n",
        "print(f\"Test: {f1_7}\")"
      ]
    },
    {
      "cell_type": "markdown",
      "id": "b24ae0d9",
      "metadata": {
        "id": "b24ae0d9"
      },
      "source": [
        "### RandomForestClassifier SMOTE"
      ]
    },
    {
      "cell_type": "code",
      "execution_count": null,
      "id": "66d7a522",
      "metadata": {
        "id": "66d7a522",
        "outputId": "94a92380-d598-43f3-e12d-867194aa2a8e"
      },
      "outputs": [
        {
          "name": "stdout",
          "output_type": "stream",
          "text": [
            "Best score: 0.8817099059912076, Best params: {'forest__class_weight': None, 'forest__max_depth': 130, 'forest__max_features': 'sqrt', 'forest__min_samples_leaf': 9, 'forest__min_samples_split': 6, 'forest__n_estimators': 200}\n",
            "Test: 0.9289417006466919\n"
          ]
        }
      ],
      "source": [
        "pipeline_forest_smote = imbPipeline(steps=[\n",
        "                            ('smote', SMOTE(random_state=RANDOM_STATE)),\n",
        "                            ('forest', RandomForestClassifier(random_state=RANDOM_STATE))\n",
        "                          ])\n",
        "\n",
        "\n",
        "parameters = {\n",
        "    'forest__min_samples_split': range(6, 9),\n",
        "    'forest__min_samples_leaf': range(9, 11),\n",
        "    'forest__max_depth': range(130, 150, 10),\n",
        "    'forest__max_features':['auto', \"sqrt\"],\n",
        "    'forest__n_estimators': [100, 200],\n",
        "    'forest__class_weight': [None, \"balanced\"]\n",
        "}\n",
        "\n",
        "grid_search_forest_smote = HalvingGridSearchCV(pipeline_forest_smote, parameters, cv=3, n_jobs=-1, \n",
        "                                       scoring='f1', verbose=False)\n",
        "grid_search_forest_smote.fit(X_train, y_train)\n",
        "\n",
        "print(f\"Best score: {abs(grid_search_forest_smote.best_score_)}, Best params: {grid_search_forest_smote.best_params_}\")\n",
        "\n",
        "f1_8 = f1_m(y_test, K.round(grid_search_forest_smote.predict_proba(X_test)[:,1])).numpy()\n",
        "print(f\"Test: {f1_8}\")"
      ]
    },
    {
      "cell_type": "markdown",
      "id": "86314e06",
      "metadata": {
        "id": "86314e06"
      },
      "source": [
        "### Тестируем лучшие модельки"
      ]
    },
    {
      "cell_type": "code",
      "execution_count": null,
      "id": "3b530305",
      "metadata": {
        "id": "3b530305"
      },
      "outputs": [],
      "source": [
        "# f1_test_light_smote = f1_score(grid_search_light_smote.predict(X_test), y_test)\n",
        "# print(f\"LGBMClassifier + SMOTE, f1: {f1_test_light_smote}\")"
      ]
    },
    {
      "cell_type": "code",
      "execution_count": null,
      "id": "9796ccc6",
      "metadata": {
        "id": "9796ccc6"
      },
      "outputs": [],
      "source": [
        "# f1_test_forest_smote = f1_score(grid_search_forest_smote.predict(X_test), y_test)\n",
        "# print(f\"RandomForestClassifier + SMOTE, f1: {f1_test_forest_smote}\")"
      ]
    },
    {
      "cell_type": "code",
      "execution_count": null,
      "id": "bd947fc6",
      "metadata": {
        "id": "bd947fc6"
      },
      "outputs": [],
      "source": [
        "# f1_1 = f1_keras.numpy()\n",
        "# f1_2 = f1_test_light_smote\n",
        "# f1_3 = f1_test_forest_smote"
      ]
    },
    {
      "cell_type": "markdown",
      "source": [
        "**Итоговая оценка**"
      ],
      "metadata": {
        "id": "AbFnG8TPKINZ"
      },
      "id": "AbFnG8TPKINZ"
    },
    {
      "cell_type": "code",
      "execution_count": null,
      "id": "80d11fe2",
      "metadata": {
        "id": "80d11fe2",
        "outputId": "11bbeff5-3b4e-4b16-92e7-b84701eb168b"
      },
      "outputs": [
        {
          "name": "stdout",
          "output_type": "stream",
          "text": [
            "\n",
            "        Keras: 0.981712576941288, \n",
            "\n",
            "        KNeighbors: 0.7090642810321208, \n",
            "\n",
            "        DecisionTree: 0.8617933799941364,  \n",
            "\n",
            "        RandomForest: 0.9019115767750931, \n",
            "\n",
            "        LGBM: 0.9777517063955328, \n",
            "\n",
            "        LGBM:  + SMOTE: 0.9772195761201705, \n",
            "\n",
            "        DecisionTree + SMOTE: 0.6124323825925387, \n",
            "\n",
            "        RandomForest + SMOTE: 0.9289417006466919\n",
            "        \n",
            "Средняя f1 мера составляет 0.9628019946611709\n",
            "Количество баллов равно 21.280199466117097\n"
          ]
        }
      ],
      "source": [
        "print(f\"\"\"\n",
        "        Keras: {f1_1}, \\n\n",
        "        KNeighbors: {f1_2}, \\n\n",
        "        DecisionTree: {f1_3},  \\n\n",
        "        RandomForest: {f1_4}, \\n\n",
        "        LGBM: {f1_5}, \\n\n",
        "        LGBM:  + SMOTE: {f1_6}, \\n\n",
        "        DecisionTree + SMOTE: {f1_7}, \\n\n",
        "        RandomForest + SMOTE: {f1_8}\n",
        "        \"\"\") \n",
        "\n",
        "print(\"Средняя f1 мера составляет\", (f1_1 + f1_5 + f1_8)/3)\n",
        "print(\"Количество баллов равно\", max(min(22, (f1_1*100 + f1_5*100 + f1_8*100)/3-75),0))"
      ]
    }
  ],
  "metadata": {
    "kernelspec": {
      "display_name": "Python 3 (ipykernel)",
      "language": "python",
      "name": "python3"
    },
    "language_info": {
      "codemirror_mode": {
        "name": "ipython",
        "version": 3
      },
      "file_extension": ".py",
      "mimetype": "text/x-python",
      "name": "python",
      "nbconvert_exporter": "python",
      "pygments_lexer": "ipython3",
      "version": "3.9.13"
    },
    "colab": {
      "provenance": []
    }
  },
  "nbformat": 4,
  "nbformat_minor": 5
}